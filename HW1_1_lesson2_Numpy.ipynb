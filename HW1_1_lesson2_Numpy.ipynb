{
 "cells": [
  {
   "cell_type": "markdown",
   "metadata": {},
   "source": [
    "# Тема “Вычисления с помощью Numpy”\n",
    "## Задание 1.\n",
    "Импортируйте библиотеку Numpy и дайте ей псевдоним np.\n",
    "Создайте массив Numpy под названием a размером 5x2, то есть состоящий из 5 строк и 2 столбцов.\n",
    "Первый столбец должен содержать числа 1, 2, 3, 3, 1, а второй - числа 6, 8, 11, 10, 7. Будем считать,\n",
    "что каждый столбец - это признак, а строка - наблюдение. Затем найдите среднее значение по\n",
    "каждому признаку, используя метод mean массива Numpy. Результат запишите в массив mean_a, в\n",
    "нем должно быть 2 элемента."
   ]
  },
  {
   "cell_type": "code",
   "execution_count": 1,
   "metadata": {},
   "outputs": [],
   "source": [
    "import numpy as np"
   ]
  },
  {
   "cell_type": "markdown",
   "metadata": {},
   "source": [
    "Создадим список (list) первого столбца"
   ]
  },
  {
   "cell_type": "code",
   "execution_count": 2,
   "metadata": {},
   "outputs": [],
   "source": [
    "a = [1, 2, 3, 3, 1]"
   ]
  },
  {
   "cell_type": "markdown",
   "metadata": {},
   "source": [
    "Создадим список (list) второго столбца"
   ]
  },
  {
   "cell_type": "code",
   "execution_count": 3,
   "metadata": {},
   "outputs": [],
   "source": [
    "b = [6, 8, 11, 10, 7]"
   ]
  },
  {
   "cell_type": "markdown",
   "metadata": {},
   "source": [
    "Создаем массив numpy, поместив списки в функцию array"
   ]
  },
  {
   "cell_type": "code",
   "execution_count": 4,
   "metadata": {
    "scrolled": true
   },
   "outputs": [
    {
     "data": {
      "text/plain": [
       "array([[ 1,  2,  3,  3,  1],\n",
       "       [ 6,  8, 11, 10,  7]])"
      ]
     },
     "execution_count": 4,
     "metadata": {},
     "output_type": "execute_result"
    }
   ],
   "source": [
    "C = np.array ([a , b])\n",
    "C"
   ]
  },
  {
   "cell_type": "markdown",
   "metadata": {},
   "source": [
    "При заполнении строк массива получилась матрица размером 2х5, нам нужна размерность 5х2. Значит необходимо применить фунуцию транспонирования матриц"
   ]
  },
  {
   "cell_type": "markdown",
   "metadata": {},
   "source": [
    "с помощью функции np.transpose : A_t = np.transpose(A)"
   ]
  },
  {
   "cell_type": "markdown",
   "metadata": {},
   "source": [
    "с помощью метода A.transpose : A_t = A.transpose()"
   ]
  },
  {
   "cell_type": "markdown",
   "metadata": {},
   "source": [
    "с помощью атрибута A.T : A_t = A.T"
   ]
  },
  {
   "cell_type": "code",
   "execution_count": 5,
   "metadata": {},
   "outputs": [
    {
     "data": {
      "text/plain": [
       "array([[ 1,  6],\n",
       "       [ 2,  8],\n",
       "       [ 3, 11],\n",
       "       [ 3, 10],\n",
       "       [ 1,  7]])"
      ]
     },
     "execution_count": 5,
     "metadata": {},
     "output_type": "execute_result"
    }
   ],
   "source": [
    "D = C.T\n",
    "D"
   ]
  },
  {
   "cell_type": "code",
   "execution_count": 6,
   "metadata": {},
   "outputs": [
    {
     "data": {
      "text/plain": [
       "numpy.ndarray"
      ]
     },
     "execution_count": 6,
     "metadata": {},
     "output_type": "execute_result"
    }
   ],
   "source": [
    "type (D)"
   ]
  },
  {
   "cell_type": "markdown",
   "metadata": {},
   "source": [
    "Теперь выполняем в одно действие"
   ]
  },
  {
   "cell_type": "code",
   "execution_count": 7,
   "metadata": {},
   "outputs": [
    {
     "data": {
      "text/plain": [
       "array([[ 1,  6],\n",
       "       [ 2,  8],\n",
       "       [ 3, 11],\n",
       "       [ 3, 10],\n",
       "       [ 1,  7]])"
      ]
     },
     "execution_count": 7,
     "metadata": {},
     "output_type": "execute_result"
    }
   ],
   "source": [
    "E = (np.array([a,b])).T\n",
    "E"
   ]
  },
  {
   "cell_type": "markdown",
   "metadata": {},
   "source": [
    "Или:\n",
    "Создайем массив Numpy под названием a размером 5x2"
   ]
  },
  {
   "cell_type": "code",
   "execution_count": 8,
   "metadata": {},
   "outputs": [
    {
     "data": {
      "text/plain": [
       "array([[ 1,  6],\n",
       "       [ 2,  8],\n",
       "       [ 3, 11],\n",
       "       [ 3, 10],\n",
       "       [ 1,  7]])"
      ]
     },
     "execution_count": 8,
     "metadata": {},
     "output_type": "execute_result"
    }
   ],
   "source": [
    "a = (np.array([[1, 2, 3, 3, 1],[6, 8, 11, 10, 7]])).T\n",
    "a"
   ]
  },
  {
   "cell_type": "code",
   "execution_count": 9,
   "metadata": {},
   "outputs": [
    {
     "name": "stdout",
     "output_type": "stream",
     "text": [
      "Среднее значение для каждого столбца: [2.  8.4]\n"
     ]
    }
   ],
   "source": [
    "print(\"Среднее значение для каждого столбца: {}\".format(a.mean(axis=0)))"
   ]
  },
  {
   "cell_type": "markdown",
   "metadata": {},
   "source": [
    "Результат - массив mean_a :"
   ]
  },
  {
   "cell_type": "code",
   "execution_count": 10,
   "metadata": {},
   "outputs": [
    {
     "data": {
      "text/plain": [
       "array([2. , 8.4])"
      ]
     },
     "execution_count": 10,
     "metadata": {},
     "output_type": "execute_result"
    }
   ],
   "source": [
    "mean_a = a.mean(axis=0)\n",
    "mean_a"
   ]
  },
  {
   "cell_type": "markdown",
   "metadata": {},
   "source": [
    "## Задание 2.\n",
    "Вычислите массив a_centered, отняв от значений массива “а” средние значения соответствующих\n",
    "признаков, содержащиеся в массиве mean_a. Вычисление должно производиться в одно действие.\n",
    "Получившийся массив должен иметь размер 5x2."
   ]
  },
  {
   "cell_type": "markdown",
   "metadata": {},
   "source": [
    "Применим концепцию Broadcasting:"
   ]
  },
  {
   "cell_type": "code",
   "execution_count": 11,
   "metadata": {},
   "outputs": [
    {
     "data": {
      "text/plain": [
       "array([[-1. , -2.4],\n",
       "       [ 0. , -0.4],\n",
       "       [ 1. ,  2.6],\n",
       "       [ 1. ,  1.6],\n",
       "       [-1. , -1.4]])"
      ]
     },
     "execution_count": 11,
     "metadata": {},
     "output_type": "execute_result"
    }
   ],
   "source": [
    "a_centered = a - mean_a\n",
    "a_centered"
   ]
  },
  {
   "cell_type": "markdown",
   "metadata": {},
   "source": [
    "## Задание 3\n",
    "Найдите скалярное произведение столбцов массива a_centered. В результате должна получиться\n",
    "величина a_centered_sp. Затем поделите a_centered_sp на N-1, где N - число наблюдений."
   ]
  },
  {
   "cell_type": "code",
   "execution_count": 12,
   "metadata": {},
   "outputs": [
    {
     "name": "stdout",
     "output_type": "stream",
     "text": [
      "[-1.  0.  1.  1. -1.]\n",
      "[-2.4 -0.4  2.6  1.6 -1.4]\n"
     ]
    }
   ],
   "source": [
    "a1 = a_centered[0:,0]\n",
    "a2 = a_centered[0:,1]\n",
    "print (a1)\n",
    "print (a2)"
   ]
  },
  {
   "cell_type": "code",
   "execution_count": 13,
   "metadata": {},
   "outputs": [
    {
     "name": "stdout",
     "output_type": "stream",
     "text": [
      "Скалярное произведение столбцов массива a_centered: 8.0\n"
     ]
    }
   ],
   "source": [
    "a_centered_sp = a1.dot(a2)\n",
    "print(\"Скалярное произведение столбцов массива a_centered:\", a_centered_sp)"
   ]
  },
  {
   "cell_type": "code",
   "execution_count": 14,
   "metadata": {},
   "outputs": [
    {
     "data": {
      "text/plain": [
       "8.0"
      ]
     },
     "execution_count": 14,
     "metadata": {},
     "output_type": "execute_result"
    }
   ],
   "source": [
    "# Также вычсилсить скалярное произведение, возможно используя транспонированную матрицу\n",
    "a_centered_sp = a_centered.T[0] @ a_centered.T[1]\n",
    "a_centered_sp"
   ]
  },
  {
   "cell_type": "code",
   "execution_count": 15,
   "metadata": {},
   "outputs": [],
   "source": [
    "# С помощью атрибута size можно увидеть общее количество элементов массива:"
   ]
  },
  {
   "cell_type": "code",
   "execution_count": 16,
   "metadata": {},
   "outputs": [
    {
     "name": "stdout",
     "output_type": "stream",
     "text": [
      "Число наблюдений N является количестом строк и равно: 5\n"
     ]
    }
   ],
   "source": [
    "print(f'Число наблюдений N является количестом строк и равно: {a[:,0].size}')"
   ]
  },
  {
   "cell_type": "code",
   "execution_count": 17,
   "metadata": {},
   "outputs": [
    {
     "name": "stdout",
     "output_type": "stream",
     "text": [
      "(N-1) = 4\n"
     ]
    }
   ],
   "source": [
    "N = a[:,0].size\n",
    "print(f'(N-1) = {N - 1}')"
   ]
  },
  {
   "cell_type": "code",
   "execution_count": 18,
   "metadata": {},
   "outputs": [
    {
     "name": "stdout",
     "output_type": "stream",
     "text": [
      "Результат деления a_centered_sp/(N-1) = 2.0\n"
     ]
    }
   ],
   "source": [
    "print(f'Результат деления a_centered_sp/(N-1) = {a_centered_sp/(a[:,0].size - 1)}')"
   ]
  },
  {
   "cell_type": "code",
   "execution_count": 22,
   "metadata": {},
   "outputs": [
    {
     "name": "stdout",
     "output_type": "stream",
     "text": [
      "Ковариационная матрица:\n",
      " [[1.  2. ]\n",
      " [2.  4.3]]\n",
      "Значение ковариации =  2.0\n"
     ]
    }
   ],
   "source": [
    "cov_matrix = np.cov(a.T)\n",
    "print(\"Ковариационная матрица:\\n\", cov_matrix)\n",
    "print(\"Значение ковариации = \", cov_matrix[0,1])"
   ]
  },
  {
   "cell_type": "markdown",
   "metadata": {},
   "source": [
    "### Задание 4**\n",
    "\n",
    "Число, которое мы получили в конце задания 3 является ковариацией двух признаков, содержащихся\n",
    "в массиве “а”. В задании 4 мы делили сумму произведений центрированных признаков на N-1, а не на\n",
    "N, поэтому полученная нами величина является несмещенной оценкой ковариации.\n",
    "Подробнее узнать о ковариации можно здесь:\n",
    "Выборочная ковариация и выборочная дисперсия — Студопедия\n",
    "В этом задании проверьте получившееся число, вычислив ковариацию еще одним способом - с\n",
    "помощью функции np.cov. В качестве аргумента m функция np.cov должна принимать\n",
    "транспонированный массив “a”. В получившейся ковариационной матрице (массив Numpy размером\n",
    "2x2) искомое значение ковариации будет равно элементу в строке с индексом 0 и столбце с индексом\n",
    "1.\n",
    "Тема"
   ]
  },
  {
   "cell_type": "code",
   "execution_count": 25,
   "metadata": {},
   "outputs": [
    {
     "name": "stdout",
     "output_type": "stream",
     "text": [
      "2.0\n",
      "[[1.  2. ]\n",
      " [2.  4.3]]\n",
      "2.0\n",
      "Значения ковариации, вычисленные разными способами равны\n"
     ]
    }
   ],
   "source": [
    "cov1 = a_centered_sp/(a[:,0].size - 1)\n",
    "print (cov1)\n",
    "cov_m = np.cov(a.T)\n",
    "print (cov_m)\n",
    "cov2 = cov_m[0,1]\n",
    "print (cov2)\n",
    "assert cov1 == cov2\n",
    "print('Значения ковариации, вычисленные разными способами равны')"
   ]
  },
  {
   "cell_type": "code",
   "execution_count": null,
   "metadata": {},
   "outputs": [],
   "source": []
  }
 ],
 "metadata": {
  "kernelspec": {
   "display_name": "Python 3",
   "language": "python",
   "name": "python3"
  },
  "language_info": {
   "codemirror_mode": {
    "name": "ipython",
    "version": 3
   },
   "file_extension": ".py",
   "mimetype": "text/x-python",
   "name": "python",
   "nbconvert_exporter": "python",
   "pygments_lexer": "ipython3",
   "version": "3.8.5"
  }
 },
 "nbformat": 4,
 "nbformat_minor": 4
}
